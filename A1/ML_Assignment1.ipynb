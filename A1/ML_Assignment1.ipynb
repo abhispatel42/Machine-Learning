{
 "cells": [
  {
   "cell_type": "code",
   "execution_count": 22,
   "metadata": {
    "scrolled": true
   },
   "outputs": [
    {
     "name": "stdout",
     "output_type": "stream",
     "text": [
      "Question 1\n"
     ]
    },
    {
     "data": {
      "image/png": "[encoded data removed]",
      "text/plain": [
       "<matplotlib.figure.Figure at 0x1989a3f8eb8>"
      ]
     },
     "metadata": {},
     "output_type": "display_data"
    },
    {
     "name": "stdout",
     "output_type": "stream",
     "text": [
      "Extracting MNIST_data\\train-images-idx3-ubyte.gz\n",
      "Extracting MNIST_data\\train-labels-idx1-ubyte.gz\n",
      "Extracting MNIST_data\\t10k-images-idx3-ubyte.gz\n",
      "Extracting MNIST_data\\t10k-labels-idx1-ubyte.gz\n"
     ]
    },
    {
     "data": {
      "text/plain": [
       "<matplotlib.image.AxesImage at 0x198998bea20>"
      ]
     },
     "execution_count": 22,
     "metadata": {},
     "output_type": "execute_result"
    }
   ],
   "source": [
    "print(\"Question 1\")\n",
    "from tensorflow.examples.tutorials.mnist import input_data\n",
    "import tensorflow as tf\n",
    "import matplotlib.pyplot as plt\n",
    "#import numpy as np\n",
    "\n",
    "plt.show()\n",
    "\n",
    "mnist = input_data.read_data_sets('MNIST_data', one_hot=True)\n",
    "batch = mnist.train.next_batch(50)\n",
    "x = batch[0]\n",
    "# Create a TensorFlow Variable\n",
    "plt.imshow(x)"
   ]
  },
  {
   "cell_type": "code",
   "execution_count": 23,
   "metadata": {
    "scrolled": true
   },
   "outputs": [
    {
     "name": "stdout",
     "output_type": "stream",
     "text": [
      "Question 2\n",
      "k-fold validation is a method of splitting a dataset into k subsets. Then we train our model using k-1 subsets and use the last subset as the testing data.This procedure is applied for all the subsets. The reason for k-fold validation is to average out the error on all the folds which significantly reduces the bias and variance of the dataset.\n",
      "(150, 5)\n",
      "------------SVM-----------\n",
      " Accuracy = 0.938\n",
      "10\n",
      "Accuracy of k-fold without using function is = 0.933\n",
      "-----------RF--------------\n",
      " Accuracy = 0.980\n",
      "10\n",
      "Accuracy of k-fold without using function is = 0.978\n",
      "The accuracy of cross_val function of SVM is less(93.3) than the one obtained using the fucntion(93.8%). While the accuracy of RF increases to a greater extent(95.6%) if we don't use function than is we do(93.5%).\n",
      "The accuracy of SVM and RF is about the same(i.e 93.8% and 93.5% respectively) based on our results. So,any of the model can be used for classification.\n"
     ]
    }
   ],
   "source": [
    "print(\"Question 2\")\n",
    "print(\"k-fold validation is a method of splitting a dataset into k subsets. Then we train our model using k-1 subsets and use the last subset as the testing data.This procedure is applied for all the subsets. The reason for k-fold validation is to average out the error on all the folds which significantly reduces the bias and variance of the dataset.\")\n",
    "\n",
    "import numpy as np\n",
    "from sklearn.model_selection import train_test_split\n",
    "from sklearn.model_selection import cross_val_score\n",
    "from sklearn.svm import LinearSVC\n",
    "from sklearn.ensemble import RandomForestClassifier\n",
    "from sklearn.model_selection import KFold\n",
    "\n",
    "\n",
    "iris_data = np.loadtxt(\"Z:\\\\Machine learning\\\\Programs\\\\iris.data\",delimiter=',')\n",
    "print(iris_data.shape)\n",
    "\n",
    "features = iris_data[:,0:4]\n",
    "target = iris_data[:,4]\n",
    "\n",
    "feature_names = np.genfromtxt('Z:\\\\Machine learning\\\\Programs\\\\feature_names.txt', \\\n",
    "                              delimiter=',', dtype='str')\n",
    "feature_names = np.delete(feature_names,-1)\n",
    "target_names = np.genfromtxt('Z:\\\\Machine learning\\\\Programs\\\\target_names.txt', \\\n",
    "                             delimiter=',', dtype='str')\n",
    "\n",
    "features_train, features_test, target_train, target_test = train_test_split(features, target, random_state=0,test_size=0.3)\n",
    "\n",
    "print(\"------------SVM-----------\")\n",
    "clf = LinearSVC(random_state=0)\n",
    "clf.fit(features_train,target_train)\n",
    "scores = cross_val_score(clf, features_test, target_test,scoring='accuracy' , cv=10)\n",
    "print(\" Accuracy = %0.3f\" % (np.mean(scores)))\n",
    "\n",
    "k_fold = KFold(n_splits=10)\n",
    "print(k_fold.get_n_splits(features))\n",
    "a= clf.fit(features_train,target_train).score(features_test,target_test)\n",
    "print(\"Accuracy of k-fold without using function is = %0.3f\" %(a))\n",
    "\n",
    "print(\"-----------RF--------------\")\n",
    "clfRF=RandomForestClassifier(n_estimators=10, bootstrap=True, max_features = 'auto')\n",
    "clfRF.fit(features_train,target_train)\n",
    "scores = cross_val_score(clfRF, features_test, target_test,scoring='accuracy' , cv=10)\n",
    "print(\" Accuracy = %0.3f\" % (np.mean(scores)))\n",
    "\n",
    "\n",
    "k_fold = KFold(n_splits=10)\n",
    "print(k_fold.get_n_splits(features))\n",
    "b= clfRF.fit(features_train,target_train).score(features_test,target_test)\n",
    "print(\"Accuracy of k-fold without using function is = %0.3f\" %(b))\n",
    "print(\"The accuracy of cross_val function of SVM is less(93.3) than the one obtained using the fucntion(93.8%). While the accuracy of RF increases to a greater extent(95.6%) if we don't use function than is we do(93.5%).\")\n",
    "print(\"The accuracy of SVM and RF is about the same(i.e 93.8% and 93.5% respectively) based on our results. So,any of the model can be used for classification.\")\n"
   ]
  },
  {
   "cell_type": "code",
   "execution_count": 15,
   "metadata": {},
   "outputs": [
    {
     "name": "stdout",
     "output_type": "stream",
     "text": [
      "Question 3\n",
      "Random forest has an advantage of working well for categorial data and it does not overfit a dataset.The average result of n decision trees is used to finalize the class. Considering all these, I would like to choose it as my model for predicting the class of the wine dataset.\n"
     ]
    }
   ],
   "source": [
    "print(\"Question 3\")\n",
    "import numpy as np\n",
    "from sklearn.ensemble import RandomForestClassifier\n",
    "\n",
    "train_data = np.loadtxt(open(\"Z:\\\\Machine learning\\\\wine\\\\wine.train\",\"r\"),\n",
    "        delimiter=\",\",\n",
    "        skiprows=0,\n",
    "        dtype=np.float64\n",
    "        )\n",
    "test_data = np.loadtxt(open(\"Z:\\\\Machine learning\\\\wine\\\\wine.test\",\"r\"),\n",
    "        delimiter=\",\",\n",
    "        skiprows=0,\n",
    "        dtype=np.float64\n",
    "        )\n",
    "\n",
    "f_train = train_data[:, 1:13]\n",
    "t_train = train_data[:, 0]\n",
    "f_test = test_data[:, 1:13]\n",
    "\n",
    "\n",
    "print(\"Random forest has an advantage of working well for categorial data and it does not overfit a dataset.The average result of n decision trees is used to finalize the class. Considering all these, I would like to choose it as my model for predicting the class of the wine dataset.\")\n",
    "RFclf= RandomForestClassifier(n_estimators=10, bootstrap=True, max_features = 'auto')\n",
    "model = RFclf.fit(f_train,t_train)\n",
    "t_predict= model.predict(f_test)\n",
    "np.savetxt(\"Z:\\\\Machine learning\\\\wine\\\\predict.csv\", np.array((t_predict), dtype = int),fmt='%1.1f')"
   ]
  },
  {
   "cell_type": "code",
   "execution_count": null,
   "metadata": {
    "collapsed": true
   },
   "outputs": [],
   "source": []
  }
 ],
 "metadata": {
  "kernelspec": {
   "display_name": "Python 3",
   "language": "python",
   "name": "python3"
  },
  "language_info": {
   "codemirror_mode": {
    "name": "ipython",
    "version": 3
   },
   "file_extension": ".py",
   "mimetype": "text/x-python",
   "name": "python",
   "nbconvert_exporter": "python",
   "pygments_lexer": "ipython3",
   "version": "3.6.3"
  }
 },
 "nbformat": 4,
 "nbformat_minor": 2
}
