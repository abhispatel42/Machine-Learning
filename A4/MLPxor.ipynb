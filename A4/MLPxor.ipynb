{
 "cells": [
  {
   "cell_type": "markdown",
   "metadata": {},
   "source": [
    "# MLP example for boolean function"
   ]
  },
  {
   "cell_type": "code",
   "execution_count": 43,
   "metadata": {
    "collapsed": true
   },
   "outputs": [],
   "source": [
    "import numpy as np\n",
    "import matplotlib.pyplot as plt\n",
    "\n",
    "X=np.array([[0,0,1,1],\n",
    "            [0,1,0,1],\n",
    "            [1,1,1,1]])\n",
    "Y=np.array([[1,0,0,1]])\n",
    "\n",
    "# model specifications\n",
    "Ni=3; Nh=4; No=1;\n",
    "\n",
    "#parameter and array initialization\n",
    "Ntrials=1000\n",
    "wh=np.random.randn(Nh,Ni); dwh=np.zeros(wh.shape) \n",
    "wo=np.random.randn(No,Nh); dwo=np.zeros(wo.shape) \n",
    "error=np.array([])\n",
    "\n",
    "for trial in range(Ntrials):     \n",
    "    h=1/(1+np.exp(-wh@X)) #hidden activation for all pattern\n",
    "    y=1/(1+np.exp(-wo@h)) #output for all pattern\n",
    "\n",
    "    do=y*(1-y)*(Y-y)  # delta output\n",
    "    dh=h*(1-h)*(wo.transpose()@do)  # delta backpropagated  \n",
    "    \n",
    "    # update weights with momentum\n",
    "    dwo=0.9*dwo+do@h.T\n",
    "    wo=wo+0.1*dwo\n",
    "    dwh=0.9*dwh+dh@X.T\n",
    "    wh=wh+0.1*dwh\n",
    "    \n",
    "    error=np.append(error,np.sum(abs(Y-y)))\n"
   ]
  },
  {
   "cell_type": "code",
   "execution_count": 44,
   "metadata": {},
   "outputs": [
    {
     "data": {
      "application/pdf": "[encoded data removed]",
      "image/png": "[encoded data removed]",
      "text/plain": [
       "<matplotlib.figure.Figure at 0x1d037fe7320>"
      ]
     },
     "metadata": {},
     "output_type": "display_data"
    }
   ],
   "source": [
    "from IPython.display import set_matplotlib_formats\n",
    "set_matplotlib_formats('pdf', 'png')\n",
    "\n",
    "plt.xlabel(\"Iteration\")\n",
    "plt.ylabel(\"Absolute difference\")\n",
    "plt.plot(error)\n",
    "plt.show()\n"
   ]
  },
  {
   "cell_type": "code",
   "execution_count": 1,
   "metadata": {},
   "outputs": [
    {
     "ename": "NameError",
     "evalue": "name 'dwo' is not defined",
     "output_type": "error",
     "traceback": [
      "\u001b[1;31m---------------------------------------------------------------------------\u001b[0m",
      "\u001b[1;31mNameError\u001b[0m                                 Traceback (most recent call last)",
      "\u001b[1;32m<ipython-input-1-e51931177678>\u001b[0m in \u001b[0;36m<module>\u001b[1;34m()\u001b[0m\n\u001b[0;32m     40\u001b[0m \u001b[1;33m\u001b[0m\u001b[0m\n\u001b[0;32m     41\u001b[0m     \u001b[1;31m# update weights with momentum\u001b[0m\u001b[1;33m\u001b[0m\u001b[1;33m\u001b[0m\u001b[0m\n\u001b[1;32m---> 42\u001b[1;33m     \u001b[0mdwo\u001b[0m\u001b[1;33m=\u001b[0m\u001b[1;36m0.9\u001b[0m\u001b[1;33m*\u001b[0m\u001b[0mdwo\u001b[0m\u001b[1;33m+\u001b[0m\u001b[0mouter\u001b[0m\u001b[1;33m(\u001b[0m\u001b[0mh\u001b[0m\u001b[1;33m,\u001b[0m\u001b[0mdo\u001b[0m\u001b[1;33m)\u001b[0m\u001b[1;33m.\u001b[0m\u001b[0mT\u001b[0m\u001b[1;33m\u001b[0m\u001b[0m\n\u001b[0m\u001b[0;32m     43\u001b[0m     \u001b[0mwo\u001b[0m\u001b[1;33m=\u001b[0m\u001b[0mwo\u001b[0m\u001b[1;33m+\u001b[0m\u001b[1;36m0.1\u001b[0m\u001b[1;33m*\u001b[0m\u001b[0mdwo\u001b[0m\u001b[1;33m\u001b[0m\u001b[0m\n\u001b[0;32m     44\u001b[0m     \u001b[0mdwh\u001b[0m\u001b[1;33m=\u001b[0m\u001b[1;36m0.9\u001b[0m\u001b[1;33m*\u001b[0m\u001b[0mdwh\u001b[0m\u001b[1;33m+\u001b[0m\u001b[0mouter\u001b[0m\u001b[1;33m(\u001b[0m\u001b[0mdh\u001b[0m\u001b[1;33m,\u001b[0m\u001b[0mx\u001b[0m\u001b[1;33m)\u001b[0m\u001b[1;33m\u001b[0m\u001b[0m\n",
      "\u001b[1;31mNameError\u001b[0m: name 'dwo' is not defined"
     ]
    }
   ],
   "source": [
    "from pylab import *\n",
    "import matplotlib.pyplot as plt\n",
    "from sklearn.metrics import accuracy_score\n",
    "\n",
    "# training vectors\n",
    "data = np.genfromtxt('Z:\\Machine learning\\Assign\\pattern1.txt', dtype = float, delimiter=' ')\n",
    "InputData = np.ndarray((26,156), dtype = float)\n",
    "\n",
    "for i in range(26):\n",
    "    InputData[i] = data[12*i : 12*(i+1), :].flatten()\n",
    "\n",
    "#https://stackoverflow.com/questions/10411085/converting-integer-to-binary-in-python\n",
    "X = InputData.T\n",
    "Y = np.array([list('{0:08b}'.format(x)) for x in range(65,91)], dtype = float)\n",
    "actualValues = np.array(range(65,91))\n",
    "\n",
    "# model specifications\n",
    "Ni = 156; Nh = 20 ;No = 8\n",
    "\n",
    "Ntrials = 1000\n",
    "\n",
    "wh=randn(Nh,Ni)\n",
    "wo=randn(No,Nh) \n",
    "\n",
    "error=zeros(Ntrials)\n",
    "\n",
    "for trial in range(Ntrials):     \n",
    "    #randomly pick training example\n",
    "    pat = randint(26)\n",
    "    x=X[:,pat]\n",
    "    \n",
    "    #calculate prediction    \n",
    "    h=1/(1+exp(-np.dot(wh,x))) \n",
    "    #y= 1*((1/(1+exp(-np.dot(wo,h))))>0.5)\n",
    "    y= 1/(1+exp(-np.dot(wo,h)))\n",
    "    \n",
    "    # delta term for each layer   \n",
    "    do=y*(1-y)*(Y[pat] - y)   \n",
    "    dh=(h*(1-h))*(wo.transpose()@do)    \n",
    "    \n",
    "    # update weights with momentum\n",
    "    dwo=0.9*dwo+outer(h,do).T\n",
    "    wo=wo+0.1*dwo\n",
    "    dwh=0.9*dwh+outer(dh,x)\n",
    "    wh=wh+0.1*dwh\n",
    "    \n",
    "    # test all pattern    \n",
    "    h=1/(1+exp(-wh@X))\n",
    "    y=1/(1+exp(-wo@h)).T   \n",
    "    y = 1*(y>0.5)\n",
    "    error[trial]=error[trial]+sum(abs(y - Y))\n",
    "    \n",
    "acc = zeros(100)\n",
    "error=zeros(100)\n",
    "\n",
    "for iterr in range(100):\n",
    "    for i in range(26):\n",
    "        InputData[i] = data[12*i : 12*(i+1), :].flatten()\n",
    "        # Add some noise here \n",
    "        for j in range(77):\n",
    "            value = randint(0, 156)\n",
    "            if(InputData[i,value]==1):\n",
    "                InputData[i,value] = 0\n",
    "            elif(InputData[i,value]==0):\n",
    "                InputData[i,value] = 1\n",
    "                \n",
    "    #https://stackoverflow.com/questions/10411085/converting-integer-to-binary-in-python\n",
    "    X = InputData.T\n",
    "    Y = np.array([list('{0:08b}'.format(x)) for x in range(65,91)], dtype = float)\n",
    "    actualValues = np.array(range(65,91))\n",
    "    \n",
    "    # test all pattern    \n",
    "    h=1/(1+exp(-wh@X))\n",
    "    y=1/(1+exp(-wo@h)).T   \n",
    "    y = 1*(y>0.5)\n",
    "    BinToDec = ((''.join([str(item) for item in data])) for data in y)\n",
    "    predictions = [int(row, 2) for row in BinToDec]\n",
    "    predictions = np.array(predictions, dtype = int)\n",
    "    error[iterr]=error[iterr]+sum(abs(y - Y))\n",
    "\n",
    "    a= 0\n",
    "    for i in range(26) :\n",
    "        if(actualValues[i] == predictions[i]):\n",
    "            a= a+1\n",
    "    acc[iterr] = a/26.0\n",
    "print('Accuracy after training model with 50% noise is ' +str(np.mean(acc)*100) + ' %')\n",
    "out = (float(i) for i in error)\n",
    "plt.plot(error)\n",
    "plt.xlabel('Iterations')\n",
    "plt.ylabel('Error')\n",
    "plt.show()"
   ]
  },
  {
   "cell_type": "code",
   "execution_count": null,
   "metadata": {
    "collapsed": true
   },
   "outputs": [],
   "source": []
  }
 ],
 "metadata": {
  "kernelspec": {
   "display_name": "Python 3",
   "language": "python",
   "name": "python3"
  },
  "language_info": {
   "codemirror_mode": {
    "name": "ipython",
    "version": 3
   },
   "file_extension": ".py",
   "mimetype": "text/x-python",
   "name": "python",
   "nbconvert_exporter": "python",
   "pygments_lexer": "ipython3",
   "version": "3.6.4"
  }
 },
 "nbformat": 4,
 "nbformat_minor": 2
}
